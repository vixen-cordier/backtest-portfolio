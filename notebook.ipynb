{
 "cells": [
  {
   "cell_type": "code",
   "execution_count": null,
   "metadata": {},
   "outputs": [],
   "source": [
    "from asset import Asset\n",
    "\n",
    "assets: List[Asset] = None\n",
    "# tickers = ['SPY','QQQ','IWM','XLE','TLT','GLD','ESE.PA','PUST.PA','RS2K.PA','BRE.PA','OBLI.PA','DBXN.F','GOLD.PA','BTC-USD','EURUSD=X']\n",
    "# for ticker in tickers:\n",
    "for ticker in ['SPY']:\n",
    "    asset = Asset(ticker)\n",
    "    asset.fetch_yf()\n",
    "    asset.set_flag()\n",
    "    asset.mm_daily([20])\n",
    "    asset.mm_weekly([20])\n",
    "    assets.append(asset)"
   ]
  }
 ],
 "metadata": {
  "kernelspec": {
   "display_name": "Python 3.9.4 64-bit",
   "language": "python",
   "name": "python3"
  },
  "language_info": {
   "codemirror_mode": {
    "name": "ipython",
    "version": 3
   },
   "file_extension": ".py",
   "mimetype": "text/x-python",
   "name": "python",
   "nbconvert_exporter": "python",
   "pygments_lexer": "ipython3",
   "version": "3.9.4"
  },
  "orig_nbformat": 4,
  "vscode": {
   "interpreter": {
    "hash": "98f645f5ffb66ca293d4d98dc9291d59364fc3c9937e34a0b14a474cf06b7613"
   }
  }
 },
 "nbformat": 4,
 "nbformat_minor": 2
}
